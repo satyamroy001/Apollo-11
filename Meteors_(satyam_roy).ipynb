{
  "nbformat": 4,
  "nbformat_minor": 0,
  "metadata": {
    "colab": {
      "name": "Meteors (satyam roy)",
      "provenance": [],
      "authorship_tag": "ABX9TyNO63oqqo6oIKtyoJ7d2rAV",
      "include_colab_link": true
    },
    "kernelspec": {
      "name": "python3",
      "display_name": "Python 3"
    }
  },
  "cells": [
    {
      "cell_type": "markdown",
      "metadata": {
        "id": "view-in-github",
        "colab_type": "text"
      },
      "source": [
        "<a href=\"https://colab.research.google.com/github/satyamroy001/Apollo-11/blob/master/Meteors_(satyam_roy).ipynb\" target=\"_parent\"><img src=\"https://colab.research.google.com/assets/colab-badge.svg\" alt=\"Open In Colab\"/></a>"
      ]
    },
    {
      "cell_type": "markdown",
      "metadata": {
        "id": "ipLm5iX-9hVe"
      },
      "source": [
        "***COMPUTATIONAL PHYSICS- PROJECT-1 ***              \n",
        "**BY- SATYAM ROY (WEST BENGAL, INDIA)**\n",
        "\n",
        "\n",
        "PROJECT GUIDED BY- DR.SARAH GUTHLS (PhD)\n",
        "\n",
        "\n"
      ]
    },
    {
      "cell_type": "code",
      "metadata": {
        "id": "zyIH7N4EhpwW"
      },
      "source": [
        "import numpy as np \n",
        "import pandas as pd"
      ],
      "execution_count": 1,
      "outputs": []
    },
    {
      "cell_type": "code",
      "metadata": {
        "id": "4MtZfbYgh0v8",
        "outputId": "e6add7b3-a0c9-4d7b-f43c-e3785eeb13dd",
        "colab": {
          "base_uri": "https://localhost:8080/"
        }
      },
      "source": [
        "!git clone https://github.com/sguthals/learnwithdrg.git"
      ],
      "execution_count": 2,
      "outputs": [
        {
          "output_type": "stream",
          "text": [
            "Cloning into 'learnwithdrg'...\n",
            "remote: Enumerating objects: 38, done.\u001b[K\n",
            "remote: Counting objects: 100% (38/38), done.\u001b[K\n",
            "remote: Compressing objects: 100% (32/32), done.\u001b[K\n",
            "remote: Total 38 (delta 5), reused 15 (delta 1), pack-reused 0\u001b[K\n",
            "Unpacking objects: 100% (38/38), done.\n"
          ],
          "name": "stdout"
        }
      ]
    },
    {
      "cell_type": "code",
      "metadata": {
        "id": "aOPRKaVwiL2N"
      },
      "source": [
        "meteor_showers = pd.read_csv('/content/meteorshowers.csv') \n",
        "moon_phases = pd.read_csv('/content/moonphases.csv')\n",
        "constellations = pd.read_csv('/content/constellations.csv')\n",
        "cities = pd.read_csv('/content/cities.csv')\n"
      ],
      "execution_count": 52,
      "outputs": []
    },
    {
      "cell_type": "code",
      "metadata": {
        "id": "OeuNwrAcjKGd",
        "outputId": "438ba7c2-76bf-4add-cdf4-529d9aba4513",
        "colab": {
          "base_uri": "https://localhost:8080/",
          "height": 206
        }
      },
      "source": [
        "#change_meteor_shower = {'name':'Chang\\'e','radiant':'Draco','bestmonth':'october','startmonth':'october','startday':1,'endmonth':'october','endday':30,'hemisphere':'northern','preferredhemisphere':'northern'}\n",
        "#meteor_showers = meteor_showers.append(change_meteor_shower, ignore_index=True)\n",
        "meteor_showers.head(50)"
      ],
      "execution_count": 53,
      "outputs": [
        {
          "output_type": "execute_result",
          "data": {
            "text/html": [
              "<div>\n",
              "<style scoped>\n",
              "    .dataframe tbody tr th:only-of-type {\n",
              "        vertical-align: middle;\n",
              "    }\n",
              "\n",
              "    .dataframe tbody tr th {\n",
              "        vertical-align: top;\n",
              "    }\n",
              "\n",
              "    .dataframe thead th {\n",
              "        text-align: right;\n",
              "    }\n",
              "</style>\n",
              "<table border=\"1\" class=\"dataframe\">\n",
              "  <thead>\n",
              "    <tr style=\"text-align: right;\">\n",
              "      <th></th>\n",
              "      <th>name</th>\n",
              "      <th>radiant</th>\n",
              "      <th>bestmonth</th>\n",
              "      <th>startmonth</th>\n",
              "      <th>startday</th>\n",
              "      <th>endmonth</th>\n",
              "      <th>endday</th>\n",
              "      <th>hemisphere</th>\n",
              "      <th>preferredhemisphere</th>\n",
              "    </tr>\n",
              "  </thead>\n",
              "  <tbody>\n",
              "    <tr>\n",
              "      <th>0</th>\n",
              "      <td>Lyrids</td>\n",
              "      <td>Lyra</td>\n",
              "      <td>april</td>\n",
              "      <td>april</td>\n",
              "      <td>21</td>\n",
              "      <td>april</td>\n",
              "      <td>22</td>\n",
              "      <td>northern</td>\n",
              "      <td>northern</td>\n",
              "    </tr>\n",
              "    <tr>\n",
              "      <th>1</th>\n",
              "      <td>Eta Aquarids</td>\n",
              "      <td>Aquarius</td>\n",
              "      <td>may</td>\n",
              "      <td>april</td>\n",
              "      <td>19</td>\n",
              "      <td>may</td>\n",
              "      <td>28</td>\n",
              "      <td>northern, southern</td>\n",
              "      <td>southern</td>\n",
              "    </tr>\n",
              "    <tr>\n",
              "      <th>2</th>\n",
              "      <td>Orionids</td>\n",
              "      <td>Orion</td>\n",
              "      <td>october</td>\n",
              "      <td>october</td>\n",
              "      <td>2</td>\n",
              "      <td>november</td>\n",
              "      <td>7</td>\n",
              "      <td>northern, southern</td>\n",
              "      <td>northern, southern</td>\n",
              "    </tr>\n",
              "    <tr>\n",
              "      <th>3</th>\n",
              "      <td>Perseids</td>\n",
              "      <td>Perseus</td>\n",
              "      <td>august</td>\n",
              "      <td>july</td>\n",
              "      <td>14</td>\n",
              "      <td>august</td>\n",
              "      <td>24</td>\n",
              "      <td>northern</td>\n",
              "      <td>northern</td>\n",
              "    </tr>\n",
              "    <tr>\n",
              "      <th>4</th>\n",
              "      <td>Leonids</td>\n",
              "      <td>Leo</td>\n",
              "      <td>november</td>\n",
              "      <td>november</td>\n",
              "      <td>6</td>\n",
              "      <td>november</td>\n",
              "      <td>30</td>\n",
              "      <td>northern, southern</td>\n",
              "      <td>northern, southern</td>\n",
              "    </tr>\n",
              "  </tbody>\n",
              "</table>\n",
              "</div>"
            ],
            "text/plain": [
              "           name   radiant  ...          hemisphere preferredhemisphere\n",
              "0        Lyrids      Lyra  ...            northern            northern\n",
              "1  Eta Aquarids  Aquarius  ...  northern, southern            southern\n",
              "2      Orionids     Orion  ...  northern, southern  northern, southern\n",
              "3      Perseids   Perseus  ...            northern            northern\n",
              "4       Leonids       Leo  ...  northern, southern  northern, southern\n",
              "\n",
              "[5 rows x 9 columns]"
            ]
          },
          "metadata": {
            "tags": []
          },
          "execution_count": 53
        }
      ]
    },
    {
      "cell_type": "code",
      "metadata": {
        "id": "lA5OgYrbqrMN",
        "outputId": "e92b0a42-84d7-4780-8bf7-90b4949d0a13",
        "colab": {
          "base_uri": "https://localhost:8080/",
          "height": 206
        }
      },
      "source": [
        "#draco_constellation = {'constellation':'Draco','bestmonth':'july','latitudestart':90,'latitudeend':-15,'besttime':2100,'hemisphere':'northern'}\n",
        "\n",
        "#constellations = constellations.append(draco_constellation, ignore_index=True)\n",
        "constellations.head(8)"
      ],
      "execution_count": 54,
      "outputs": [
        {
          "output_type": "execute_result",
          "data": {
            "text/html": [
              "<div>\n",
              "<style scoped>\n",
              "    .dataframe tbody tr th:only-of-type {\n",
              "        vertical-align: middle;\n",
              "    }\n",
              "\n",
              "    .dataframe tbody tr th {\n",
              "        vertical-align: top;\n",
              "    }\n",
              "\n",
              "    .dataframe thead th {\n",
              "        text-align: right;\n",
              "    }\n",
              "</style>\n",
              "<table border=\"1\" class=\"dataframe\">\n",
              "  <thead>\n",
              "    <tr style=\"text-align: right;\">\n",
              "      <th></th>\n",
              "      <th>constellation</th>\n",
              "      <th>bestmonth</th>\n",
              "      <th>latitudestart</th>\n",
              "      <th>latitudeend</th>\n",
              "      <th>besttime</th>\n",
              "      <th>hemisphere</th>\n",
              "    </tr>\n",
              "  </thead>\n",
              "  <tbody>\n",
              "    <tr>\n",
              "      <th>0</th>\n",
              "      <td>Lyra</td>\n",
              "      <td>august</td>\n",
              "      <td>90</td>\n",
              "      <td>-40</td>\n",
              "      <td>21:00</td>\n",
              "      <td>northern</td>\n",
              "    </tr>\n",
              "    <tr>\n",
              "      <th>1</th>\n",
              "      <td>Aquarius</td>\n",
              "      <td>october</td>\n",
              "      <td>65</td>\n",
              "      <td>-90</td>\n",
              "      <td>21:00</td>\n",
              "      <td>southern</td>\n",
              "    </tr>\n",
              "    <tr>\n",
              "      <th>2</th>\n",
              "      <td>Orion</td>\n",
              "      <td>january</td>\n",
              "      <td>85</td>\n",
              "      <td>-75</td>\n",
              "      <td>21:00</td>\n",
              "      <td>northern</td>\n",
              "    </tr>\n",
              "    <tr>\n",
              "      <th>3</th>\n",
              "      <td>Perseus</td>\n",
              "      <td>december</td>\n",
              "      <td>90</td>\n",
              "      <td>-35</td>\n",
              "      <td>21:00</td>\n",
              "      <td>northern</td>\n",
              "    </tr>\n",
              "    <tr>\n",
              "      <th>4</th>\n",
              "      <td>Leo</td>\n",
              "      <td>april</td>\n",
              "      <td>90</td>\n",
              "      <td>65</td>\n",
              "      <td>21:00</td>\n",
              "      <td>northern</td>\n",
              "    </tr>\n",
              "  </tbody>\n",
              "</table>\n",
              "</div>"
            ],
            "text/plain": [
              "  constellation bestmonth  latitudestart  latitudeend besttime hemisphere\n",
              "0          Lyra    august             90          -40    21:00   northern\n",
              "1      Aquarius   october             65          -90    21:00   southern\n",
              "2         Orion   january             85          -75    21:00   northern\n",
              "3       Perseus  december             90          -35    21:00   northern\n",
              "4           Leo     april             90           65    21:00   northern"
            ]
          },
          "metadata": {
            "tags": []
          },
          "execution_count": 54
        }
      ]
    },
    {
      "cell_type": "code",
      "metadata": {
        "id": "eieXCyqSr53I",
        "outputId": "007a942a-0e5c-4996-b1c9-86efb0c746dc",
        "colab": {
          "base_uri": "https://localhost:8080/",
          "height": 206
        }
      },
      "source": [
        "cities.head()"
      ],
      "execution_count": 55,
      "outputs": [
        {
          "output_type": "execute_result",
          "data": {
            "text/html": [
              "<div>\n",
              "<style scoped>\n",
              "    .dataframe tbody tr th:only-of-type {\n",
              "        vertical-align: middle;\n",
              "    }\n",
              "\n",
              "    .dataframe tbody tr th {\n",
              "        vertical-align: top;\n",
              "    }\n",
              "\n",
              "    .dataframe thead th {\n",
              "        text-align: right;\n",
              "    }\n",
              "</style>\n",
              "<table border=\"1\" class=\"dataframe\">\n",
              "  <thead>\n",
              "    <tr style=\"text-align: right;\">\n",
              "      <th></th>\n",
              "      <th>city</th>\n",
              "      <th>latitude</th>\n",
              "      <th>country</th>\n",
              "    </tr>\n",
              "  </thead>\n",
              "  <tbody>\n",
              "    <tr>\n",
              "      <th>0</th>\n",
              "      <td>Abu Dhabi</td>\n",
              "      <td>24.47</td>\n",
              "      <td>United Arab Emirates</td>\n",
              "    </tr>\n",
              "    <tr>\n",
              "      <th>1</th>\n",
              "      <td>Abuja</td>\n",
              "      <td>9.07</td>\n",
              "      <td>Nigeria</td>\n",
              "    </tr>\n",
              "    <tr>\n",
              "      <th>2</th>\n",
              "      <td>Accra</td>\n",
              "      <td>5.55</td>\n",
              "      <td>Ghana</td>\n",
              "    </tr>\n",
              "    <tr>\n",
              "      <th>3</th>\n",
              "      <td>Adamstown</td>\n",
              "      <td>-25.07</td>\n",
              "      <td>Pitcairn Islands</td>\n",
              "    </tr>\n",
              "    <tr>\n",
              "      <th>4</th>\n",
              "      <td>Addis Ababa</td>\n",
              "      <td>9.02</td>\n",
              "      <td>Ethiopia</td>\n",
              "    </tr>\n",
              "  </tbody>\n",
              "</table>\n",
              "</div>"
            ],
            "text/plain": [
              "          city  latitude               country\n",
              "0    Abu Dhabi     24.47  United Arab Emirates\n",
              "1        Abuja      9.07               Nigeria\n",
              "2        Accra      5.55                 Ghana\n",
              "3    Adamstown    -25.07      Pitcairn Islands\n",
              "4  Addis Ababa      9.02              Ethiopia"
            ]
          },
          "metadata": {
            "tags": []
          },
          "execution_count": 55
        }
      ]
    },
    {
      "cell_type": "code",
      "metadata": {
        "id": "ZFIN3ZAGsAIA",
        "outputId": "8663768d-70c7-41c8-f714-32a2f85c1666",
        "colab": {
          "base_uri": "https://localhost:8080/",
          "height": 206
        }
      },
      "source": [
        "moon_phases.head()"
      ],
      "execution_count": 56,
      "outputs": [
        {
          "output_type": "execute_result",
          "data": {
            "text/html": [
              "<div>\n",
              "<style scoped>\n",
              "    .dataframe tbody tr th:only-of-type {\n",
              "        vertical-align: middle;\n",
              "    }\n",
              "\n",
              "    .dataframe tbody tr th {\n",
              "        vertical-align: top;\n",
              "    }\n",
              "\n",
              "    .dataframe thead th {\n",
              "        text-align: right;\n",
              "    }\n",
              "</style>\n",
              "<table border=\"1\" class=\"dataframe\">\n",
              "  <thead>\n",
              "    <tr style=\"text-align: right;\">\n",
              "      <th></th>\n",
              "      <th>month</th>\n",
              "      <th>day</th>\n",
              "      <th>moonphase</th>\n",
              "      <th>specialevent</th>\n",
              "    </tr>\n",
              "  </thead>\n",
              "  <tbody>\n",
              "    <tr>\n",
              "      <th>0</th>\n",
              "      <td>january</td>\n",
              "      <td>1</td>\n",
              "      <td>NaN</td>\n",
              "      <td>NaN</td>\n",
              "    </tr>\n",
              "    <tr>\n",
              "      <th>1</th>\n",
              "      <td>january</td>\n",
              "      <td>2</td>\n",
              "      <td>first quarter</td>\n",
              "      <td>NaN</td>\n",
              "    </tr>\n",
              "    <tr>\n",
              "      <th>2</th>\n",
              "      <td>january</td>\n",
              "      <td>3</td>\n",
              "      <td>NaN</td>\n",
              "      <td>NaN</td>\n",
              "    </tr>\n",
              "    <tr>\n",
              "      <th>3</th>\n",
              "      <td>january</td>\n",
              "      <td>4</td>\n",
              "      <td>NaN</td>\n",
              "      <td>NaN</td>\n",
              "    </tr>\n",
              "    <tr>\n",
              "      <th>4</th>\n",
              "      <td>january</td>\n",
              "      <td>5</td>\n",
              "      <td>NaN</td>\n",
              "      <td>NaN</td>\n",
              "    </tr>\n",
              "  </tbody>\n",
              "</table>\n",
              "</div>"
            ],
            "text/plain": [
              "     month  day      moonphase specialevent\n",
              "0  january    1            NaN          NaN\n",
              "1  january    2  first quarter          NaN\n",
              "2  january    3            NaN          NaN\n",
              "3  january    4            NaN          NaN\n",
              "4  january    5            NaN          NaN"
            ]
          },
          "metadata": {
            "tags": []
          },
          "execution_count": 56
        }
      ]
    },
    {
      "cell_type": "code",
      "metadata": {
        "id": "wFa1yoVPrXuu",
        "outputId": "91c22da2-b26a-47a1-bfd3-d3a0983d709a",
        "colab": {
          "base_uri": "https://localhost:8080/"
        }
      },
      "source": [
        "months = {'january':1, 'february':2, 'march':3, 'april':4, 'may':5, 'june':6, 'july':7, 'august':8, 'september':9, 'october':10, 'november':11, 'december':12}\n",
        "months"
      ],
      "execution_count": 57,
      "outputs": [
        {
          "output_type": "execute_result",
          "data": {
            "text/plain": [
              "{'april': 4,\n",
              " 'august': 8,\n",
              " 'december': 12,\n",
              " 'february': 2,\n",
              " 'january': 1,\n",
              " 'july': 7,\n",
              " 'june': 6,\n",
              " 'march': 3,\n",
              " 'may': 5,\n",
              " 'november': 11,\n",
              " 'october': 10,\n",
              " 'september': 9}"
            ]
          },
          "metadata": {
            "tags": []
          },
          "execution_count": 57
        }
      ]
    },
    {
      "cell_type": "code",
      "metadata": {
        "id": "jwH1PZNSrt6v"
      },
      "source": [
        "meteor_showers.bestmonth = meteor_showers.bestmonth.map(months)\n",
        "meteor_showers.startmonth = meteor_showers.startmonth.map(months)\n",
        "meteor_showers.endmonth = meteor_showers.endmonth.map(months)\n",
        "moon_phases.month = moon_phases.month.map(months)\n",
        "constellations.bestmonth = constellations.bestmonth.map(months)\n"
      ],
      "execution_count": 58,
      "outputs": []
    },
    {
      "cell_type": "code",
      "metadata": {
        "id": "0RKeqpJstqlu",
        "outputId": "ec8016b5-91ce-41b2-f317-fa797486e1ba",
        "colab": {
          "base_uri": "https://localhost:8080/",
          "height": 206
        }
      },
      "source": [
        "meteor_showers.head()\n",
        "\n"
      ],
      "execution_count": 59,
      "outputs": [
        {
          "output_type": "execute_result",
          "data": {
            "text/html": [
              "<div>\n",
              "<style scoped>\n",
              "    .dataframe tbody tr th:only-of-type {\n",
              "        vertical-align: middle;\n",
              "    }\n",
              "\n",
              "    .dataframe tbody tr th {\n",
              "        vertical-align: top;\n",
              "    }\n",
              "\n",
              "    .dataframe thead th {\n",
              "        text-align: right;\n",
              "    }\n",
              "</style>\n",
              "<table border=\"1\" class=\"dataframe\">\n",
              "  <thead>\n",
              "    <tr style=\"text-align: right;\">\n",
              "      <th></th>\n",
              "      <th>name</th>\n",
              "      <th>radiant</th>\n",
              "      <th>bestmonth</th>\n",
              "      <th>startmonth</th>\n",
              "      <th>startday</th>\n",
              "      <th>endmonth</th>\n",
              "      <th>endday</th>\n",
              "      <th>hemisphere</th>\n",
              "      <th>preferredhemisphere</th>\n",
              "    </tr>\n",
              "  </thead>\n",
              "  <tbody>\n",
              "    <tr>\n",
              "      <th>0</th>\n",
              "      <td>Lyrids</td>\n",
              "      <td>Lyra</td>\n",
              "      <td>4</td>\n",
              "      <td>4</td>\n",
              "      <td>21</td>\n",
              "      <td>4</td>\n",
              "      <td>22</td>\n",
              "      <td>northern</td>\n",
              "      <td>northern</td>\n",
              "    </tr>\n",
              "    <tr>\n",
              "      <th>1</th>\n",
              "      <td>Eta Aquarids</td>\n",
              "      <td>Aquarius</td>\n",
              "      <td>5</td>\n",
              "      <td>4</td>\n",
              "      <td>19</td>\n",
              "      <td>5</td>\n",
              "      <td>28</td>\n",
              "      <td>northern, southern</td>\n",
              "      <td>southern</td>\n",
              "    </tr>\n",
              "    <tr>\n",
              "      <th>2</th>\n",
              "      <td>Orionids</td>\n",
              "      <td>Orion</td>\n",
              "      <td>10</td>\n",
              "      <td>10</td>\n",
              "      <td>2</td>\n",
              "      <td>11</td>\n",
              "      <td>7</td>\n",
              "      <td>northern, southern</td>\n",
              "      <td>northern, southern</td>\n",
              "    </tr>\n",
              "    <tr>\n",
              "      <th>3</th>\n",
              "      <td>Perseids</td>\n",
              "      <td>Perseus</td>\n",
              "      <td>8</td>\n",
              "      <td>7</td>\n",
              "      <td>14</td>\n",
              "      <td>8</td>\n",
              "      <td>24</td>\n",
              "      <td>northern</td>\n",
              "      <td>northern</td>\n",
              "    </tr>\n",
              "    <tr>\n",
              "      <th>4</th>\n",
              "      <td>Leonids</td>\n",
              "      <td>Leo</td>\n",
              "      <td>11</td>\n",
              "      <td>11</td>\n",
              "      <td>6</td>\n",
              "      <td>11</td>\n",
              "      <td>30</td>\n",
              "      <td>northern, southern</td>\n",
              "      <td>northern, southern</td>\n",
              "    </tr>\n",
              "  </tbody>\n",
              "</table>\n",
              "</div>"
            ],
            "text/plain": [
              "           name   radiant  ...          hemisphere  preferredhemisphere\n",
              "0        Lyrids      Lyra  ...            northern             northern\n",
              "1  Eta Aquarids  Aquarius  ...  northern, southern             southern\n",
              "2      Orionids     Orion  ...  northern, southern   northern, southern\n",
              "3      Perseids   Perseus  ...            northern             northern\n",
              "4       Leonids       Leo  ...  northern, southern   northern, southern\n",
              "\n",
              "[5 rows x 9 columns]"
            ]
          },
          "metadata": {
            "tags": []
          },
          "execution_count": 59
        }
      ]
    },
    {
      "cell_type": "code",
      "metadata": {
        "id": "KIpQgPjiuIku",
        "outputId": "d3685b14-31bb-439d-a820-408f2e124041",
        "colab": {
          "base_uri": "https://localhost:8080/"
        }
      },
      "source": [
        "#check for dates remember this concept\n",
        "meteor_showers['startdate'] = pd.to_datetime(2020*10000+meteor_showers.startmonth*100+meteor_showers.startday,format='%Y%m%d')\n",
        "meteor_showers['enddate'] = pd.to_datetime(2020*10000+meteor_showers.endmonth*100+meteor_showers.endday,format='%Y%m%d')\n",
        "\n",
        "meteor_showers['startdate']"
      ],
      "execution_count": 60,
      "outputs": [
        {
          "output_type": "execute_result",
          "data": {
            "text/plain": [
              "0   2020-04-21\n",
              "1   2020-04-19\n",
              "2   2020-10-02\n",
              "3   2020-07-14\n",
              "4   2020-11-06\n",
              "Name: startdate, dtype: datetime64[ns]"
            ]
          },
          "metadata": {
            "tags": []
          },
          "execution_count": 60
        }
      ]
    },
    {
      "cell_type": "code",
      "metadata": {
        "id": "PGdt_vGswlM-"
      },
      "source": [
        "moon_phases['date'] = pd.to_datetime(2020*10000+moon_phases.month*100+moon_phases.day,format='%Y%m%d')"
      ],
      "execution_count": 61,
      "outputs": []
    },
    {
      "cell_type": "code",
      "metadata": {
        "id": "z2bq1M95xkBs",
        "outputId": "3246388b-450d-4c64-c2fd-ed86d54e0e31",
        "colab": {
          "base_uri": "https://localhost:8080/",
          "height": 206
        }
      },
      "source": [
        "moon_phases.head() #checking"
      ],
      "execution_count": 62,
      "outputs": [
        {
          "output_type": "execute_result",
          "data": {
            "text/html": [
              "<div>\n",
              "<style scoped>\n",
              "    .dataframe tbody tr th:only-of-type {\n",
              "        vertical-align: middle;\n",
              "    }\n",
              "\n",
              "    .dataframe tbody tr th {\n",
              "        vertical-align: top;\n",
              "    }\n",
              "\n",
              "    .dataframe thead th {\n",
              "        text-align: right;\n",
              "    }\n",
              "</style>\n",
              "<table border=\"1\" class=\"dataframe\">\n",
              "  <thead>\n",
              "    <tr style=\"text-align: right;\">\n",
              "      <th></th>\n",
              "      <th>month</th>\n",
              "      <th>day</th>\n",
              "      <th>moonphase</th>\n",
              "      <th>specialevent</th>\n",
              "      <th>date</th>\n",
              "    </tr>\n",
              "  </thead>\n",
              "  <tbody>\n",
              "    <tr>\n",
              "      <th>0</th>\n",
              "      <td>1</td>\n",
              "      <td>1</td>\n",
              "      <td>NaN</td>\n",
              "      <td>NaN</td>\n",
              "      <td>2020-01-01</td>\n",
              "    </tr>\n",
              "    <tr>\n",
              "      <th>1</th>\n",
              "      <td>1</td>\n",
              "      <td>2</td>\n",
              "      <td>first quarter</td>\n",
              "      <td>NaN</td>\n",
              "      <td>2020-01-02</td>\n",
              "    </tr>\n",
              "    <tr>\n",
              "      <th>2</th>\n",
              "      <td>1</td>\n",
              "      <td>3</td>\n",
              "      <td>NaN</td>\n",
              "      <td>NaN</td>\n",
              "      <td>2020-01-03</td>\n",
              "    </tr>\n",
              "    <tr>\n",
              "      <th>3</th>\n",
              "      <td>1</td>\n",
              "      <td>4</td>\n",
              "      <td>NaN</td>\n",
              "      <td>NaN</td>\n",
              "      <td>2020-01-04</td>\n",
              "    </tr>\n",
              "    <tr>\n",
              "      <th>4</th>\n",
              "      <td>1</td>\n",
              "      <td>5</td>\n",
              "      <td>NaN</td>\n",
              "      <td>NaN</td>\n",
              "      <td>2020-01-05</td>\n",
              "    </tr>\n",
              "  </tbody>\n",
              "</table>\n",
              "</div>"
            ],
            "text/plain": [
              "   month  day      moonphase specialevent       date\n",
              "0      1    1            NaN          NaN 2020-01-01\n",
              "1      1    2  first quarter          NaN 2020-01-02\n",
              "2      1    3            NaN          NaN 2020-01-03\n",
              "3      1    4            NaN          NaN 2020-01-04\n",
              "4      1    5            NaN          NaN 2020-01-05"
            ]
          },
          "metadata": {
            "tags": []
          },
          "execution_count": 62
        }
      ]
    },
    {
      "cell_type": "code",
      "metadata": {
        "id": "UvdzhBtyxtoU"
      },
      "source": [
        "hemispheres = {'northern':0, 'southern':1, 'northern, southern':3}\n",
        "meteor_showers.hemisphere = meteor_showers.hemisphere.map(hemispheres)\n",
        "constellations.hemisphere = constellations.hemisphere.map(hemispheres)"
      ],
      "execution_count": 64,
      "outputs": []
    },
    {
      "cell_type": "code",
      "metadata": {
        "id": "d_rcWEtQxx-M",
        "outputId": "e44fdc9f-d918-4941-9ce2-24647c5d421c",
        "colab": {
          "base_uri": "https://localhost:8080/",
          "height": 206
        }
      },
      "source": [
        "phases = {'new moon':0,'third quarter':0.5, 'first quarter':0.5,'full moon':1.0}\n",
        "moon_phases['percentage'] = moon_phases.moonphase.map(phases)\n",
        "moon_phases.head() #new column added percentages"
      ],
      "execution_count": 65,
      "outputs": [
        {
          "output_type": "execute_result",
          "data": {
            "text/html": [
              "<div>\n",
              "<style scoped>\n",
              "    .dataframe tbody tr th:only-of-type {\n",
              "        vertical-align: middle;\n",
              "    }\n",
              "\n",
              "    .dataframe tbody tr th {\n",
              "        vertical-align: top;\n",
              "    }\n",
              "\n",
              "    .dataframe thead th {\n",
              "        text-align: right;\n",
              "    }\n",
              "</style>\n",
              "<table border=\"1\" class=\"dataframe\">\n",
              "  <thead>\n",
              "    <tr style=\"text-align: right;\">\n",
              "      <th></th>\n",
              "      <th>month</th>\n",
              "      <th>day</th>\n",
              "      <th>moonphase</th>\n",
              "      <th>specialevent</th>\n",
              "      <th>date</th>\n",
              "      <th>percentage</th>\n",
              "    </tr>\n",
              "  </thead>\n",
              "  <tbody>\n",
              "    <tr>\n",
              "      <th>0</th>\n",
              "      <td>1</td>\n",
              "      <td>1</td>\n",
              "      <td>NaN</td>\n",
              "      <td>NaN</td>\n",
              "      <td>2020-01-01</td>\n",
              "      <td>NaN</td>\n",
              "    </tr>\n",
              "    <tr>\n",
              "      <th>1</th>\n",
              "      <td>1</td>\n",
              "      <td>2</td>\n",
              "      <td>first quarter</td>\n",
              "      <td>NaN</td>\n",
              "      <td>2020-01-02</td>\n",
              "      <td>0.5</td>\n",
              "    </tr>\n",
              "    <tr>\n",
              "      <th>2</th>\n",
              "      <td>1</td>\n",
              "      <td>3</td>\n",
              "      <td>NaN</td>\n",
              "      <td>NaN</td>\n",
              "      <td>2020-01-03</td>\n",
              "      <td>NaN</td>\n",
              "    </tr>\n",
              "    <tr>\n",
              "      <th>3</th>\n",
              "      <td>1</td>\n",
              "      <td>4</td>\n",
              "      <td>NaN</td>\n",
              "      <td>NaN</td>\n",
              "      <td>2020-01-04</td>\n",
              "      <td>NaN</td>\n",
              "    </tr>\n",
              "    <tr>\n",
              "      <th>4</th>\n",
              "      <td>1</td>\n",
              "      <td>5</td>\n",
              "      <td>NaN</td>\n",
              "      <td>NaN</td>\n",
              "      <td>2020-01-05</td>\n",
              "      <td>NaN</td>\n",
              "    </tr>\n",
              "  </tbody>\n",
              "</table>\n",
              "</div>"
            ],
            "text/plain": [
              "   month  day      moonphase specialevent       date  percentage\n",
              "0      1    1            NaN          NaN 2020-01-01         NaN\n",
              "1      1    2  first quarter          NaN 2020-01-02         0.5\n",
              "2      1    3            NaN          NaN 2020-01-03         NaN\n",
              "3      1    4            NaN          NaN 2020-01-04         NaN\n",
              "4      1    5            NaN          NaN 2020-01-05         NaN"
            ]
          },
          "metadata": {
            "tags": []
          },
          "execution_count": 65
        }
      ]
    },
    {
      "cell_type": "code",
      "metadata": {
        "id": "rHRiKbeeyKh3"
      },
      "source": [
        "meteor_showers = meteor_showers.drop(['startmonth', 'startday', 'endmonth', 'endday', 'hemisphere'], axis=1)\n",
        "moon_phases = moon_phases.drop(['month','day','moonphase','specialevent'], axis=1)\n",
        "constellations = constellations.drop(['besttime'], axis=1)"
      ],
      "execution_count": 66,
      "outputs": []
    },
    {
      "cell_type": "code",
      "metadata": {
        "id": "-gnzW1ARyQor",
        "outputId": "f9467a94-5ef7-428b-ea0d-7a5db1d431c6",
        "colab": {
          "base_uri": "https://localhost:8080/",
          "height": 206
        }
      },
      "source": [
        "meteor_showers.head() #checking again"
      ],
      "execution_count": 67,
      "outputs": [
        {
          "output_type": "execute_result",
          "data": {
            "text/html": [
              "<div>\n",
              "<style scoped>\n",
              "    .dataframe tbody tr th:only-of-type {\n",
              "        vertical-align: middle;\n",
              "    }\n",
              "\n",
              "    .dataframe tbody tr th {\n",
              "        vertical-align: top;\n",
              "    }\n",
              "\n",
              "    .dataframe thead th {\n",
              "        text-align: right;\n",
              "    }\n",
              "</style>\n",
              "<table border=\"1\" class=\"dataframe\">\n",
              "  <thead>\n",
              "    <tr style=\"text-align: right;\">\n",
              "      <th></th>\n",
              "      <th>name</th>\n",
              "      <th>radiant</th>\n",
              "      <th>bestmonth</th>\n",
              "      <th>preferredhemisphere</th>\n",
              "      <th>startdate</th>\n",
              "      <th>enddate</th>\n",
              "    </tr>\n",
              "  </thead>\n",
              "  <tbody>\n",
              "    <tr>\n",
              "      <th>0</th>\n",
              "      <td>Lyrids</td>\n",
              "      <td>Lyra</td>\n",
              "      <td>4</td>\n",
              "      <td>northern</td>\n",
              "      <td>2020-04-21</td>\n",
              "      <td>2020-04-22</td>\n",
              "    </tr>\n",
              "    <tr>\n",
              "      <th>1</th>\n",
              "      <td>Eta Aquarids</td>\n",
              "      <td>Aquarius</td>\n",
              "      <td>5</td>\n",
              "      <td>southern</td>\n",
              "      <td>2020-04-19</td>\n",
              "      <td>2020-05-28</td>\n",
              "    </tr>\n",
              "    <tr>\n",
              "      <th>2</th>\n",
              "      <td>Orionids</td>\n",
              "      <td>Orion</td>\n",
              "      <td>10</td>\n",
              "      <td>northern, southern</td>\n",
              "      <td>2020-10-02</td>\n",
              "      <td>2020-11-07</td>\n",
              "    </tr>\n",
              "    <tr>\n",
              "      <th>3</th>\n",
              "      <td>Perseids</td>\n",
              "      <td>Perseus</td>\n",
              "      <td>8</td>\n",
              "      <td>northern</td>\n",
              "      <td>2020-07-14</td>\n",
              "      <td>2020-08-24</td>\n",
              "    </tr>\n",
              "    <tr>\n",
              "      <th>4</th>\n",
              "      <td>Leonids</td>\n",
              "      <td>Leo</td>\n",
              "      <td>11</td>\n",
              "      <td>northern, southern</td>\n",
              "      <td>2020-11-06</td>\n",
              "      <td>2020-11-30</td>\n",
              "    </tr>\n",
              "  </tbody>\n",
              "</table>\n",
              "</div>"
            ],
            "text/plain": [
              "           name   radiant  bestmonth preferredhemisphere  startdate    enddate\n",
              "0        Lyrids      Lyra          4            northern 2020-04-21 2020-04-22\n",
              "1  Eta Aquarids  Aquarius          5            southern 2020-04-19 2020-05-28\n",
              "2      Orionids     Orion         10  northern, southern 2020-10-02 2020-11-07\n",
              "3      Perseids   Perseus          8            northern 2020-07-14 2020-08-24\n",
              "4       Leonids       Leo         11  northern, southern 2020-11-06 2020-11-30"
            ]
          },
          "metadata": {
            "tags": []
          },
          "execution_count": 67
        }
      ]
    },
    {
      "cell_type": "code",
      "metadata": {
        "id": "kPYYn0Y2ybiT",
        "outputId": "494a5b68-9a47-467b-db36-88b55404e5e7",
        "colab": {
          "base_uri": "https://localhost:8080/"
        }
      },
      "source": [
        "lastPhase = 0\n",
        "\n",
        "for index, row in moon_phases.iterrows():\n",
        "    if pd.isnull(row['percentage']):\n",
        "        moon_phases.at[index,'percentage'] = lastPhase\n",
        "    else:\n",
        "        lastPhase = row['percentage']\n",
        "        \n",
        "moon_phases.info()"
      ],
      "execution_count": 68,
      "outputs": [
        {
          "output_type": "stream",
          "text": [
            "<class 'pandas.core.frame.DataFrame'>\n",
            "RangeIndex: 366 entries, 0 to 365\n",
            "Data columns (total 2 columns):\n",
            " #   Column      Non-Null Count  Dtype         \n",
            "---  ------      --------------  -----         \n",
            " 0   date        366 non-null    datetime64[ns]\n",
            " 1   percentage  366 non-null    float64       \n",
            "dtypes: datetime64[ns](1), float64(1)\n",
            "memory usage: 5.8 KB\n"
          ],
          "name": "stdout"
        }
      ]
    },
    {
      "cell_type": "code",
      "metadata": {
        "id": "jCNLS3sCyfGN",
        "outputId": "5c467bc0-11f5-42bf-eb84-60185906c14c",
        "colab": {
          "base_uri": "https://localhost:8080/"
        }
      },
      "source": [
        "moon_phases.info()"
      ],
      "execution_count": 69,
      "outputs": [
        {
          "output_type": "stream",
          "text": [
            "<class 'pandas.core.frame.DataFrame'>\n",
            "RangeIndex: 366 entries, 0 to 365\n",
            "Data columns (total 2 columns):\n",
            " #   Column      Non-Null Count  Dtype         \n",
            "---  ------      --------------  -----         \n",
            " 0   date        366 non-null    datetime64[ns]\n",
            " 1   percentage  366 non-null    float64       \n",
            "dtypes: datetime64[ns](1), float64(1)\n",
            "memory usage: 5.8 KB\n"
          ],
          "name": "stdout"
        }
      ]
    },
    {
      "cell_type": "code",
      "metadata": {
        "id": "aSPqTwyeykHM",
        "outputId": "6fdf8be5-4e17-45fa-b2c9-f0bbc4406d2b",
        "colab": {
          "base_uri": "https://localhost:8080/",
          "height": 206
        }
      },
      "source": [
        "constellations.head()"
      ],
      "execution_count": 70,
      "outputs": [
        {
          "output_type": "execute_result",
          "data": {
            "text/html": [
              "<div>\n",
              "<style scoped>\n",
              "    .dataframe tbody tr th:only-of-type {\n",
              "        vertical-align: middle;\n",
              "    }\n",
              "\n",
              "    .dataframe tbody tr th {\n",
              "        vertical-align: top;\n",
              "    }\n",
              "\n",
              "    .dataframe thead th {\n",
              "        text-align: right;\n",
              "    }\n",
              "</style>\n",
              "<table border=\"1\" class=\"dataframe\">\n",
              "  <thead>\n",
              "    <tr style=\"text-align: right;\">\n",
              "      <th></th>\n",
              "      <th>constellation</th>\n",
              "      <th>bestmonth</th>\n",
              "      <th>latitudestart</th>\n",
              "      <th>latitudeend</th>\n",
              "      <th>hemisphere</th>\n",
              "    </tr>\n",
              "  </thead>\n",
              "  <tbody>\n",
              "    <tr>\n",
              "      <th>0</th>\n",
              "      <td>Lyra</td>\n",
              "      <td>8</td>\n",
              "      <td>90</td>\n",
              "      <td>-40</td>\n",
              "      <td>NaN</td>\n",
              "    </tr>\n",
              "    <tr>\n",
              "      <th>1</th>\n",
              "      <td>Aquarius</td>\n",
              "      <td>10</td>\n",
              "      <td>65</td>\n",
              "      <td>-90</td>\n",
              "      <td>NaN</td>\n",
              "    </tr>\n",
              "    <tr>\n",
              "      <th>2</th>\n",
              "      <td>Orion</td>\n",
              "      <td>1</td>\n",
              "      <td>85</td>\n",
              "      <td>-75</td>\n",
              "      <td>NaN</td>\n",
              "    </tr>\n",
              "    <tr>\n",
              "      <th>3</th>\n",
              "      <td>Perseus</td>\n",
              "      <td>12</td>\n",
              "      <td>90</td>\n",
              "      <td>-35</td>\n",
              "      <td>NaN</td>\n",
              "    </tr>\n",
              "    <tr>\n",
              "      <th>4</th>\n",
              "      <td>Leo</td>\n",
              "      <td>4</td>\n",
              "      <td>90</td>\n",
              "      <td>65</td>\n",
              "      <td>NaN</td>\n",
              "    </tr>\n",
              "  </tbody>\n",
              "</table>\n",
              "</div>"
            ],
            "text/plain": [
              "  constellation  bestmonth  latitudestart  latitudeend  hemisphere\n",
              "0          Lyra          8             90          -40         NaN\n",
              "1      Aquarius         10             65          -90         NaN\n",
              "2         Orion          1             85          -75         NaN\n",
              "3       Perseus         12             90          -35         NaN\n",
              "4           Leo          4             90           65         NaN"
            ]
          },
          "metadata": {
            "tags": []
          },
          "execution_count": 70
        }
      ]
    },
    {
      "cell_type": "code",
      "metadata": {
        "id": "hUp_R8uY4AIF"
      },
      "source": [
        "def predict_best_meteor_shower_viewing(city):\n",
        "    # Create an empty string to return the message back to the user\n",
        "    meteor_shower_string = \"\"\n",
        "\n",
        "    if city not in cities.values:\n",
        "        meteor_shower_string = \"Unfortunately, \" + city + \" isn't available for a prediction at this time.\"\n",
        "        return meteor_shower_string\n",
        "\n",
        "    # Get the latitude of the city from the cities dataframe\n",
        "    latitude = cities.loc[cities['city'] == city, 'latitude'].iloc[0]\n",
        "\n",
        "    # Get the list of constellations that are viewable from that latitude\n",
        "    constellation_list = constellations.loc[(constellations['latitudestart'] >= latitude) & (constellations['latitudeend'] <= latitude), 'constellation'].tolist()\n",
        "\n",
        "    # If no constrllations are viewable, let the user know\n",
        "    if not constellation_list:\n",
        "        meteor_shower_string = \"Unfortunately, there are no meteor showers viewable from \"+ city + \".\"\n",
        "\n",
        "        return meteor_shower_string\n",
        "\n",
        "    meteor_shower_string = \"In \" + city + \" you can see the following meteor showers:\\n\"\n",
        "    for constellation in constellation_list:\n",
        "        # Find the meteor shower that is nearest that constellation\n",
        "        meteor_shower = meteor_showers.loc[meteor_showers['radiant'] == constellation, 'name'].iloc[0]\n",
        "\n",
        "        # Find the start and end dates for that meteor shower\n",
        "        meteor_shower_startdate = meteor_showers.loc[meteor_showers['radiant'] == constellation, 'startdate'].iloc[0]\n",
        "        meteor_shower_enddate = meteor_showers.loc[meteor_showers['radiant'] == constellation, 'enddate'].iloc[0]\n",
        "\n",
        "        # Find the moon phases for each date within the viewable timeframe of that meteor shower\n",
        "        moon_phases_list = moon_phases.loc[(moon_phases['date'] >= meteor_shower_startdate) & (moon_phases['date'] <= meteor_shower_enddate)]\n",
        "\n",
        "         # Find the first date where the moon is the least visible\n",
        "        best_moon_date = moon_phases_list.loc[moon_phases_list['percentage'].idxmin()]['date']\n",
        "\n",
        "            # Add that date to the string to report back to the user\n",
        "        meteor_shower_string += meteor_shower + \" is best seen if you look towards the \" + constellation + \" constellation on \" +  best_moon_date.to_pydatetime().strftime(\"%B %d, %Y\") + \".\\n\"\n",
        "    \n",
        "    return meteor_shower_string\n"
      ],
      "execution_count": 83,
      "outputs": []
    },
    {
      "cell_type": "code",
      "metadata": {
        "id": "lw2FXWGf4a7o",
        "outputId": "f8693eb3-e495-4f70-8378-99a4e3e052d5",
        "colab": {
          "base_uri": "https://localhost:8080/"
        }
      },
      "source": [
        "print(predict_best_meteor_shower_viewing(\"Abu Dhabi\")) #checking"
      ],
      "execution_count": 84,
      "outputs": [
        {
          "output_type": "stream",
          "text": [
            "In Abu Dhabi you can see the following meteor showers:\n",
            "Lyrids is best seen if you look towards the Lyra constellation on April 22, 2020.\n",
            "Eta Aquarids is best seen if you look towards the Aquarius constellation on April 22, 2020.\n",
            "Orionids is best seen if you look towards the Orion constellation on October 16, 2020.\n",
            "Perseids is best seen if you look towards the Perseus constellation on July 20, 2020.\n",
            "\n"
          ],
          "name": "stdout"
        }
      ]
    },
    {
      "cell_type": "code",
      "metadata": {
        "id": "-A8x4l-d46mj"
      },
      "source": [
        ""
      ],
      "execution_count": null,
      "outputs": []
    }
  ]
}